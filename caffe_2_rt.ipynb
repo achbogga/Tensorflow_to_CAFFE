{
 "cells": [
  {
   "cell_type": "code",
   "execution_count": 1,
   "metadata": {},
   "outputs": [],
   "source": [
    "import tensorrt as trt\n",
    "import pycuda.driver as cuda\n",
    "import pycuda.autoinit\n",
    "import numpy as np\n",
    "from tensorrt import parsers"
   ]
  },
  {
   "cell_type": "code",
   "execution_count": 2,
   "metadata": {},
   "outputs": [],
   "source": [
    "INPUT_LAYERS = ['data']\n",
    "OUTPUT_LAYERS = ['inception_b10_output']\n",
    "INPUT_H = 160\n",
    "INPUT_W =  160\n",
    "OUTPUT_SIZE = 128\n",
    "MODEL_PROTOTXT = '/home/ovuser/Projects/tf_2_caffe/facenet_deploy_1_layer.prototxt'\n",
    "CAFFE_MODEL = '/home/ovuser/Projects/tf_2_caffe/inc_resnet_v1_facenet_latest_5_15.caffemodel'"
   ]
  },
  {
   "cell_type": "code",
   "execution_count": null,
   "metadata": {},
   "outputs": [],
   "source": [
    "G_LOGGER = trt.infer.ConsoleLogger(trt.infer.LogSeverity.ERROR)\n",
    "engine = trt.utils.caffe_to_trt_engine(G_LOGGER,\n",
    "                                       MODEL_PROTOTXT,\n",
    "                                       CAFFE_MODEL,\n",
    "                                       1,\n",
    "                                       1 << 20,\n",
    "                                       OUTPUT_LAYERS,\n",
    "                                       trt.infer.DataType.FLOAT)"
   ]
  },
  {
   "cell_type": "code",
   "execution_count": null,
   "metadata": {},
   "outputs": [],
   "source": [
    "trt.utils.write_engine_to_file(\"/home/ovuser/Projects/tf_2_caffe/facenet.engine\", engine.serialize())"
   ]
  },
  {
   "cell_type": "code",
   "execution_count": null,
   "metadata": {},
   "outputs": [],
   "source": []
  }
 ],
 "metadata": {
  "kernelspec": {
   "display_name": "Python 2",
   "language": "python",
   "name": "python2"
  },
  "language_info": {
   "codemirror_mode": {
    "name": "ipython",
    "version": 2
   },
   "file_extension": ".py",
   "mimetype": "text/x-python",
   "name": "python",
   "nbconvert_exporter": "python",
   "pygments_lexer": "ipython2",
   "version": "2.7.12"
  }
 },
 "nbformat": 4,
 "nbformat_minor": 2
}
