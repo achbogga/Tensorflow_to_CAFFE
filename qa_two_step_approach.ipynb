{
 "cells": [
  {
   "cell_type": "code",
   "execution_count": 1,
   "metadata": {},
   "outputs": [],
   "source": [
    "import os\n",
    "from extract_features import *\n",
    "import random\n",
    "import pandas as pd\n",
    "from sklearn.metrics import accuracy_score\n",
    "import matplotlib.pyplot as plt\n",
    "%matplotlib inline\n",
    "from scipy.spatial.distance import euclidean"
   ]
  },
  {
   "cell_type": "code",
   "execution_count": 2,
   "metadata": {},
   "outputs": [],
   "source": [
    "test_data_dir = '/home/caffe/images/china_drinks_test_data/all_cropped_images'\n",
    "china_drinks_production_sku_model = '/datadrive/models/sku_classification/tf/p100-test/20181026/frozen_inception_v3.pb'\n",
    "china_drinks_production_vocab_map = '/datadrive/models/sku_classification/tf/p100-test/20181026/ml_vocab_map.txt'\n",
    "china_drinks_production_output_tensor_name = 'InceptionV3/Predictions/Reshape_1:0'\n",
    "china_drinks_production_phase_name = False\n",
    "\n",
    "china_drinks_embedding_sku_model = '/home/caffe/achu/frozen_models/latest_china.pb'\n",
    "china_drinks_embedding_vocab_map = '/home/caffe/achu/models/ml_vocab_map_china_drinks_1_16_19.txt'\n",
    "china_drinks_embedding_output_tensor_name = 'Logits/BiasAdd:0'\n",
    "china_drinks_feature_tensor_name = 'embeddings:0'\n",
    "china_drinks_embedding_phase_name = True\n",
    "\n",
    "QA_PROD_THRESHOLD = 0.7\n",
    "DISTANCE_THRESHOLD = 0.5"
   ]
  },
  {
   "cell_type": "code",
   "execution_count": 3,
   "metadata": {},
   "outputs": [],
   "source": [
    "test_images = get_images(test_data_dir)"
   ]
  },
  {
   "cell_type": "code",
   "execution_count": 4,
   "metadata": {},
   "outputs": [],
   "source": [
    "subset_test_images = random.sample(test_images, 300)\n",
    "test_labels = [int(label.split('/')[-2]) for label in subset_test_images]"
   ]
  },
  {
   "cell_type": "code",
   "execution_count": 5,
   "metadata": {},
   "outputs": [],
   "source": [
    "def infer(test_image_paths, test_labels, sku_model, vocab_map, output_tensor_name, if_phase_tensor = False, image_size = 299):\n",
    "    raw_network_outputs = get_embeddings(test_image_paths, sku_model, features_tensor_name = output_tensor_name, phase_train_tensor = if_phase_tensor, image_size = image_size)\n",
    "    vocab_map = pd.read_csv(china_drinks_production_vocab_map, header = None)\n",
    "    pred_sku_dict = dict(zip(vocab_map[1].tolist(), vocab_map[0].tolist()))\n",
    "    predictions = [np.argmax(pred) for pred in raw_network_outputs]\n",
    "    conf_scores = [pred[np.argmax(pred)] for pred in raw_network_outputs]\n",
    "    predictions_actual = [int(pred_sku_dict[pred]) for pred in predictions]\n",
    "    print ('Accuracy_score: ', accuracy_score(test_labels, predictions_actual))\n",
    "    return predictions_actual, conf_scores"
   ]
  },
  {
   "cell_type": "code",
   "execution_count": 26,
   "metadata": {},
   "outputs": [
    {
     "name": "stdout",
     "output_type": "stream",
     "text": [
      "Model filename: /datadrive/models/sku_classification/tf/p100-test/20181026/frozen_inception_v3.pb\n",
      "('Total size: ', 300)\n",
      "('Accuracy_score: ', 0.71)\n"
     ]
    }
   ],
   "source": [
    "china_drinks_production_predictions, china_drinks_production_scores = infer(subset_test_images, test_labels, china_drinks_production_sku_model, china_drinks_production_vocab_map, china_drinks_production_output_tensor_name, china_drinks_production_phase_name, image_size = 299)"
   ]
  },
  {
   "cell_type": "code",
   "execution_count": 7,
   "metadata": {},
   "outputs": [
    {
     "name": "stdout",
     "output_type": "stream",
     "text": [
      "Model filename: /home/caffe/achu/frozen_models/latest_china.pb\n",
      "('Total size: ', 300)\n",
      "('Accuracy_score: ', 0.12333333333333334)\n"
     ]
    }
   ],
   "source": [
    "china_drinks_embedding_predictions, china_drinks_embedding_scores = infer(subset_test_images, test_labels, china_drinks_embedding_sku_model, china_drinks_embedding_vocab_map, china_drinks_embedding_output_tensor_name, china_drinks_embedding_phase_name, image_size = 256)"
   ]
  },
  {
   "cell_type": "code",
   "execution_count": 8,
   "metadata": {},
   "outputs": [],
   "source": [
    "def qa_performance(test_labels, predictions, conf_scores, should_qa_threshold = 0.7):\n",
    "    n_correct = 0\n",
    "    n_wrong = 0\n",
    "    n_qa = 0\n",
    "    n_no_qa = 0\n",
    "    n_correct_but_sent_to_qa = 0\n",
    "    n_wrong_and_sent_to_qa = 0\n",
    "    n_correct_and_not_sent_to_qa = 0\n",
    "    n_wrong_but_not_sent_to_qa = 0\n",
    "    for i in range(len(test_labels)):\n",
    "        if conf_scores[i]<should_qa_threshold:\n",
    "            n_qa += 1\n",
    "            if test_labels[i]==predictions[i]:\n",
    "                n_correct += 1\n",
    "                n_correct_but_sent_to_qa += 1\n",
    "            else:\n",
    "                n_wrong_and_sent_to_qa+=1\n",
    "                n_wrong+=1\n",
    "        else:\n",
    "            n_no_qa += 1\n",
    "            if test_labels[i]==predictions[i]:\n",
    "                n_correct += 1\n",
    "                n_correct_and_not_sent_to_qa += 1\n",
    "            else:\n",
    "                n_wrong_but_not_sent_to_qa += 1\n",
    "                n_wrong+=1\n",
    "    print ('n_correct: ', n_correct)\n",
    "    print ('n_wrong: ', n_wrong)\n",
    "    print ('n_qa: ', n_qa)\n",
    "    print ('n_no_qa', n_no_qa)\n",
    "    print ('n_wrong_and_sent_to_qa: ', n_wrong_and_sent_to_qa)\n",
    "    print ('n_correct_and_not_sent_to_qa: ', n_correct_and_not_sent_to_qa)\n",
    "    print ('n_correct_but_sent_to_qa: ', n_correct_but_sent_to_qa)\n",
    "    print ('n_wrong_but_not_sent_to_qa: ', n_wrong_but_not_sent_to_qa)\n",
    "    print ('QA rule precision: n_wrong_and_sent_to_qa/[n_wrong_and_sent_to_qa+n_correct_but_sent_to_qa]: ', n_wrong_and_sent_to_qa/float(n_wrong_and_sent_to_qa+n_correct_but_sent_to_qa))\n",
    "    print ('QA rule recall: n_wrong_and_sent_to_qa/[n_wrong_and_sent_to_qa+n_wrong_but_not_sent_to_qa]: ', n_wrong_and_sent_to_qa/float(n_wrong_and_sent_to_qa+n_wrong_but_not_sent_to_qa))\n",
    "    print ('Box level accuracy before QA: ', n_correct/float(n_correct+n_wrong))\n",
    "    print ('Box level accuracy after QA: ', (n_correct+n_wrong_and_sent_to_qa)/float(n_correct+n_wrong))"
   ]
  },
  {
   "cell_type": "code",
   "execution_count": 27,
   "metadata": {},
   "outputs": [
    {
     "name": "stdout",
     "output_type": "stream",
     "text": [
      "('n_correct: ', 213)\n",
      "('n_wrong: ', 87)\n",
      "('n_qa: ', 99)\n",
      "('n_no_qa', 201)\n",
      "('n_wrong_and_sent_to_qa: ', 55)\n",
      "('n_correct_and_not_sent_to_qa: ', 169)\n",
      "('n_correct_but_sent_to_qa: ', 44)\n",
      "('n_wrong_but_not_sent_to_qa: ', 32)\n",
      "('QA rule precision: n_wrong_and_sent_to_qa/[n_wrong_and_sent_to_qa+n_correct_but_sent_to_qa]: ', 0.5555555555555556)\n",
      "('QA rule recall: n_wrong_and_sent_to_qa/[n_wrong_and_sent_to_qa+n_wrong_but_not_sent_to_qa]: ', 0.632183908045977)\n",
      "('Box level accuracy before QA: ', 0.71)\n",
      "('Box level accuracy after QA: ', 0.8933333333333333)\n"
     ]
    }
   ],
   "source": [
    "qa_performance(test_labels, china_drinks_production_predictions, china_drinks_production_scores, should_qa_threshold = QA_PROD_THRESHOLD)"
   ]
  },
  {
   "cell_type": "code",
   "execution_count": 10,
   "metadata": {},
   "outputs": [],
   "source": [
    "def get_approx_cluster_centers(sku_ids, train_data_dir, model_dir, feature_tensor_name = 'embeddings:0', image_size = 256, if_phase=True, no_of_samples_used_in_center_calculation = 1500):\n",
    "    sku_wise_req_image_counts = {}\n",
    "    all_the_req_image_paths = []\n",
    "    training_skus = [int(float(sku)) for sku in os.listdir(train_data_dir)]\n",
    "    training_skus_actual_names = os.listdir(train_data_dir)\n",
    "    skus_with_no_training_images = []\n",
    "    sku_wise_cluster_centers = {}\n",
    "    for sku_id in sku_ids:\n",
    "        if sku_id in training_skus:\n",
    "            sku_path = train_data_dir+'/'+training_skus_actual_names[training_skus.index(sku_id)]\n",
    "            sku_image_paths = [sku_path+'/'+im for im in os.listdir(sku_path)]\n",
    "            req_image_paths = random.sample(sku_image_paths, min(no_of_samples_used_in_center_calculation, len(sku_image_paths)))\n",
    "            all_the_req_image_paths += req_image_paths\n",
    "            sku_wise_req_image_counts[sku_id] = len(req_image_paths)\n",
    "        else:\n",
    "            skus_with_no_training_images += [sku_id]\n",
    "    all_the_req_embeddings = get_embeddings(all_the_req_image_paths, model_dir, chunk_size = 500, features_tensor_name=feature_tensor_name, phase_train_tensor=True, image_size=256)\n",
    "    idx = 0\n",
    "    for sku in sku_wise_req_image_counts:\n",
    "        # print (Debug st: sku_wise_req_image_counts[sku], idx)\n",
    "        if sku_wise_req_image_counts[sku]>1:\n",
    "            req_arr = np.asarray(all_the_req_embeddings[idx:idx+sku_wise_req_image_counts[sku]])\n",
    "            #print ('Debug st len(req_arr): ', len(req_arr))\n",
    "            sku_wise_cluster_centers[sku] = req_arr.mean(axis = 0)\n",
    "        idx += sku_wise_req_image_counts[sku]\n",
    "    return sku_wise_cluster_centers"
   ]
  },
  {
   "cell_type": "code",
   "execution_count": 11,
   "metadata": {},
   "outputs": [
    {
     "name": "stdout",
     "output_type": "stream",
     "text": [
      "Model filename: /home/caffe/achu/frozen_models/latest_china.pb\n",
      "('Total size: ', 175285)\n",
      "('current chunk i: ', 500)\n",
      "('current chunk i: ', 1000)\n",
      "('current chunk i: ', 1500)\n",
      "('current chunk i: ', 2000)\n",
      "('current chunk i: ', 2500)\n",
      "('current chunk i: ', 3000)\n",
      "('current chunk i: ', 3500)\n",
      "('current chunk i: ', 4000)\n",
      "('current chunk i: ', 4500)\n",
      "('current chunk i: ', 5000)\n",
      "('current chunk i: ', 5500)\n",
      "('current chunk i: ', 6000)\n",
      "('current chunk i: ', 6500)\n",
      "('current chunk i: ', 7000)\n",
      "('current chunk i: ', 7500)\n",
      "('current chunk i: ', 8000)\n",
      "('current chunk i: ', 8500)\n",
      "('current chunk i: ', 9000)\n",
      "('current chunk i: ', 9500)\n",
      "('current chunk i: ', 10000)\n",
      "('current chunk i: ', 10500)\n",
      "('current chunk i: ', 11000)\n",
      "('current chunk i: ', 11500)\n",
      "('current chunk i: ', 12000)\n",
      "('current chunk i: ', 13500)\n",
      "('current chunk i: ', 14000)\n",
      "('current chunk i: ', 14500)\n",
      "('current chunk i: ', 15000)\n",
      "('current chunk i: ', 15500)\n",
      "('current chunk i: ', 16000)\n",
      "('current chunk i: ', 16500)\n",
      "('current chunk i: ', 17000)\n",
      "('current chunk i: ', 17500)\n",
      "('current chunk i: ', 18000)\n",
      "('current chunk i: ', 18500)\n",
      "('current chunk i: ', 19000)\n",
      "('current chunk i: ', 19500)\n",
      "('current chunk i: ', 20000)\n",
      "('current chunk i: ', 20500)\n",
      "('current chunk i: ', 21000)\n",
      "('current chunk i: ', 21500)\n",
      "('current chunk i: ', 22000)\n",
      "('current chunk i: ', 22500)\n",
      "('current chunk i: ', 23000)\n",
      "('current chunk i: ', 23500)\n",
      "('current chunk i: ', 24000)\n",
      "('current chunk i: ', 24500)\n",
      "('current chunk i: ', 25000)\n",
      "('current chunk i: ', 25500)\n",
      "('current chunk i: ', 26000)\n",
      "('current chunk i: ', 26500)\n",
      "('current chunk i: ', 27000)\n",
      "('current chunk i: ', 27500)\n",
      "('current chunk i: ', 28000)\n",
      "('current chunk i: ', 28500)\n",
      "('current chunk i: ', 29000)\n",
      "('current chunk i: ', 29500)\n",
      "('current chunk i: ', 30000)\n",
      "('current chunk i: ', 30500)\n",
      "('current chunk i: ', 31000)\n",
      "('current chunk i: ', 31500)\n",
      "('current chunk i: ', 32000)\n",
      "('current chunk i: ', 32500)\n",
      "('current chunk i: ', 33000)\n",
      "('current chunk i: ', 33500)\n",
      "('current chunk i: ', 34000)\n",
      "('current chunk i: ', 34500)\n",
      "('current chunk i: ', 35000)\n",
      "('current chunk i: ', 35500)\n",
      "('current chunk i: ', 36000)\n",
      "('current chunk i: ', 36500)\n",
      "('current chunk i: ', 37000)\n",
      "('current chunk i: ', 37500)\n",
      "('current chunk i: ', 38000)\n",
      "('current chunk i: ', 38500)\n",
      "('current chunk i: ', 39000)\n",
      "('current chunk i: ', 39500)\n",
      "('current chunk i: ', 40000)\n",
      "('current chunk i: ', 40500)\n",
      "('current chunk i: ', 41000)\n",
      "('current chunk i: ', 41500)\n",
      "('current chunk i: ', 42000)\n",
      "('current chunk i: ', 42500)\n",
      "('current chunk i: ', 43000)\n",
      "('current chunk i: ', 43500)\n",
      "('current chunk i: ', 44000)\n",
      "('current chunk i: ', 44500)\n",
      "('current chunk i: ', 45000)\n",
      "('current chunk i: ', 45500)\n",
      "('current chunk i: ', 46000)\n",
      "('current chunk i: ', 46500)\n",
      "('current chunk i: ', 47000)\n",
      "('current chunk i: ', 47500)\n",
      "('current chunk i: ', 48000)\n",
      "('current chunk i: ', 48500)\n",
      "('current chunk i: ', 49000)\n",
      "('current chunk i: ', 49500)\n",
      "('current chunk i: ', 50000)\n",
      "('current chunk i: ', 50500)\n",
      "('current chunk i: ', 51000)\n",
      "('current chunk i: ', 51500)\n",
      "('current chunk i: ', 52000)\n",
      "('current chunk i: ', 52500)\n",
      "('current chunk i: ', 53000)\n",
      "('current chunk i: ', 53500)\n",
      "('current chunk i: ', 54000)\n",
      "('current chunk i: ', 54500)\n",
      "('current chunk i: ', 55000)\n",
      "('current chunk i: ', 55500)\n",
      "('current chunk i: ', 56000)\n",
      "('current chunk i: ', 56500)\n",
      "('current chunk i: ', 57000)\n",
      "('current chunk i: ', 57500)\n",
      "('current chunk i: ', 58000)\n",
      "('current chunk i: ', 58500)\n",
      "('current chunk i: ', 59000)\n",
      "('current chunk i: ', 59500)\n",
      "('current chunk i: ', 60000)\n",
      "('current chunk i: ', 60500)\n",
      "('current chunk i: ', 61000)\n",
      "('current chunk i: ', 61500)\n",
      "('current chunk i: ', 62000)\n",
      "('current chunk i: ', 62500)\n",
      "('current chunk i: ', 63000)\n",
      "('current chunk i: ', 63500)\n",
      "('current chunk i: ', 64000)\n",
      "('current chunk i: ', 64500)\n",
      "('current chunk i: ', 65000)\n",
      "('current chunk i: ', 65500)\n",
      "('current chunk i: ', 66000)\n",
      "('current chunk i: ', 66500)\n",
      "('current chunk i: ', 67000)\n",
      "('current chunk i: ', 67500)\n",
      "('current chunk i: ', 68000)\n",
      "('current chunk i: ', 68500)\n",
      "('current chunk i: ', 69000)\n",
      "('current chunk i: ', 69500)\n",
      "('current chunk i: ', 70000)\n",
      "('current chunk i: ', 70500)\n",
      "('current chunk i: ', 71000)\n",
      "('current chunk i: ', 71500)\n",
      "('current chunk i: ', 72000)\n",
      "('current chunk i: ', 72500)\n",
      "('current chunk i: ', 73000)\n",
      "('current chunk i: ', 73500)\n",
      "('current chunk i: ', 74000)\n",
      "('current chunk i: ', 74500)\n",
      "('current chunk i: ', 75000)\n",
      "('current chunk i: ', 75500)\n",
      "('current chunk i: ', 76000)\n",
      "('current chunk i: ', 76500)\n",
      "('current chunk i: ', 77000)\n",
      "('current chunk i: ', 77500)\n",
      "('current chunk i: ', 78000)\n",
      "('current chunk i: ', 78500)\n",
      "('current chunk i: ', 79000)\n",
      "('current chunk i: ', 79500)\n",
      "('current chunk i: ', 80000)\n",
      "('current chunk i: ', 80500)\n",
      "('current chunk i: ', 81000)\n",
      "('current chunk i: ', 81500)\n",
      "('current chunk i: ', 82000)\n",
      "('current chunk i: ', 82500)\n",
      "('current chunk i: ', 83000)\n",
      "('current chunk i: ', 83500)\n",
      "('current chunk i: ', 84000)\n",
      "('current chunk i: ', 84500)\n",
      "('current chunk i: ', 85000)\n",
      "('current chunk i: ', 85500)\n",
      "('current chunk i: ', 86000)\n",
      "('current chunk i: ', 86500)\n",
      "('current chunk i: ', 87000)\n",
      "('current chunk i: ', 87500)\n",
      "('current chunk i: ', 88000)\n",
      "('current chunk i: ', 88500)\n",
      "('current chunk i: ', 89000)\n",
      "('current chunk i: ', 89500)\n",
      "('current chunk i: ', 90000)\n",
      "('current chunk i: ', 90500)\n",
      "('current chunk i: ', 91000)\n",
      "('current chunk i: ', 91500)\n",
      "('current chunk i: ', 92000)\n",
      "('current chunk i: ', 92500)\n",
      "('current chunk i: ', 93000)\n",
      "('current chunk i: ', 93500)\n",
      "('current chunk i: ', 94000)\n",
      "('current chunk i: ', 94500)\n",
      "('current chunk i: ', 95000)\n",
      "('current chunk i: ', 95500)\n",
      "('current chunk i: ', 96000)\n",
      "('current chunk i: ', 96500)\n",
      "('current chunk i: ', 97000)\n",
      "('current chunk i: ', 97500)\n",
      "('current chunk i: ', 98000)\n",
      "('current chunk i: ', 98500)\n",
      "('current chunk i: ', 99000)\n",
      "('current chunk i: ', 99500)\n",
      "('current chunk i: ', 100000)\n",
      "('current chunk i: ', 100500)\n",
      "('current chunk i: ', 101000)\n",
      "('current chunk i: ', 101500)\n",
      "('current chunk i: ', 102000)\n",
      "('current chunk i: ', 102500)\n",
      "('current chunk i: ', 103000)\n",
      "('current chunk i: ', 103500)\n",
      "('current chunk i: ', 104000)\n",
      "('current chunk i: ', 104500)\n",
      "('current chunk i: ', 105000)\n",
      "('current chunk i: ', 105500)\n",
      "('current chunk i: ', 106000)\n",
      "('current chunk i: ', 106500)\n",
      "('current chunk i: ', 107000)\n",
      "('current chunk i: ', 107500)\n",
      "('current chunk i: ', 108000)\n",
      "('current chunk i: ', 108500)\n",
      "('current chunk i: ', 109000)\n",
      "('current chunk i: ', 109500)\n",
      "('current chunk i: ', 110000)\n",
      "('current chunk i: ', 110500)\n",
      "('current chunk i: ', 111000)\n",
      "('current chunk i: ', 111500)\n",
      "('current chunk i: ', 112000)\n",
      "('current chunk i: ', 112500)\n",
      "('current chunk i: ', 113000)\n",
      "('current chunk i: ', 113500)\n",
      "('current chunk i: ', 114000)\n",
      "('current chunk i: ', 114500)\n",
      "('current chunk i: ', 115000)\n",
      "('current chunk i: ', 115500)\n",
      "('current chunk i: ', 116000)\n",
      "('current chunk i: ', 116500)\n",
      "('current chunk i: ', 117000)\n",
      "('current chunk i: ', 117500)\n",
      "('current chunk i: ', 118000)\n",
      "('current chunk i: ', 118500)\n",
      "('current chunk i: ', 119000)\n",
      "('current chunk i: ', 119500)\n",
      "('current chunk i: ', 120000)\n",
      "('current chunk i: ', 120500)\n",
      "('current chunk i: ', 121000)\n",
      "('current chunk i: ', 121500)\n",
      "('current chunk i: ', 122000)\n",
      "('current chunk i: ', 122500)\n",
      "('current chunk i: ', 123000)\n",
      "('current chunk i: ', 123500)\n",
      "('current chunk i: ', 124000)\n",
      "('current chunk i: ', 124500)\n",
      "('current chunk i: ', 125000)\n",
      "('current chunk i: ', 125500)\n",
      "('current chunk i: ', 126000)\n",
      "('current chunk i: ', 126500)\n",
      "('current chunk i: ', 127000)\n",
      "('current chunk i: ', 127500)\n",
      "('current chunk i: ', 128000)\n",
      "('current chunk i: ', 128500)\n",
      "('current chunk i: ', 129000)\n",
      "('current chunk i: ', 129500)\n",
      "('current chunk i: ', 130000)\n",
      "('current chunk i: ', 130500)\n",
      "('current chunk i: ', 131000)\n",
      "('current chunk i: ', 131500)\n",
      "('current chunk i: ', 132000)\n",
      "('current chunk i: ', 132500)\n",
      "('current chunk i: ', 133000)\n",
      "('current chunk i: ', 133500)\n",
      "('current chunk i: ', 134000)\n",
      "('current chunk i: ', 134500)\n",
      "('current chunk i: ', 135000)\n",
      "('current chunk i: ', 135500)\n",
      "('current chunk i: ', 136000)\n",
      "('current chunk i: ', 136500)\n",
      "('current chunk i: ', 137000)\n",
      "('current chunk i: ', 137500)\n",
      "('current chunk i: ', 138000)\n",
      "('current chunk i: ', 138500)\n",
      "('current chunk i: ', 139000)\n",
      "('current chunk i: ', 139500)\n",
      "('current chunk i: ', 140000)\n"
     ]
    },
    {
     "name": "stdout",
     "output_type": "stream",
     "text": [
      "('current chunk i: ', 140500)\n",
      "('current chunk i: ', 141000)\n",
      "('current chunk i: ', 141500)\n",
      "('current chunk i: ', 142000)\n",
      "('current chunk i: ', 142500)\n",
      "('current chunk i: ', 143000)\n",
      "('current chunk i: ', 143500)\n",
      "('current chunk i: ', 144000)\n",
      "('current chunk i: ', 144500)\n",
      "('current chunk i: ', 145000)\n",
      "('current chunk i: ', 145500)\n",
      "('current chunk i: ', 146000)\n",
      "('current chunk i: ', 146500)\n",
      "('current chunk i: ', 147000)\n",
      "('current chunk i: ', 147500)\n",
      "('current chunk i: ', 148000)\n",
      "('current chunk i: ', 148500)\n",
      "('current chunk i: ', 149000)\n",
      "('current chunk i: ', 149500)\n",
      "('current chunk i: ', 150000)\n",
      "('current chunk i: ', 150500)\n",
      "('current chunk i: ', 151000)\n",
      "('current chunk i: ', 151500)\n",
      "('current chunk i: ', 152000)\n",
      "('current chunk i: ', 152500)\n",
      "('current chunk i: ', 153000)\n",
      "('current chunk i: ', 153500)\n",
      "('current chunk i: ', 154000)\n",
      "('current chunk i: ', 154500)\n",
      "('current chunk i: ', 155000)\n",
      "('current chunk i: ', 155500)\n",
      "('current chunk i: ', 156000)\n",
      "('current chunk i: ', 156500)\n",
      "('current chunk i: ', 157000)\n",
      "('current chunk i: ', 157500)\n",
      "('current chunk i: ', 158000)\n",
      "('current chunk i: ', 158500)\n",
      "('current chunk i: ', 159000)\n",
      "('current chunk i: ', 159500)\n",
      "('current chunk i: ', 160000)\n",
      "('current chunk i: ', 160500)\n",
      "('current chunk i: ', 161000)\n",
      "('current chunk i: ', 161500)\n",
      "('current chunk i: ', 162000)\n",
      "('current chunk i: ', 162500)\n",
      "('current chunk i: ', 163000)\n",
      "('current chunk i: ', 163500)\n",
      "('current chunk i: ', 164000)\n",
      "('current chunk i: ', 164500)\n",
      "('current chunk i: ', 165000)\n",
      "('current chunk i: ', 165500)\n",
      "('current chunk i: ', 166000)\n",
      "('current chunk i: ', 166500)\n",
      "('current chunk i: ', 167000)\n",
      "('current chunk i: ', 167500)\n",
      "('current chunk i: ', 168000)\n",
      "('current chunk i: ', 168500)\n",
      "('current chunk i: ', 169000)\n",
      "('current chunk i: ', 169500)\n",
      "('current chunk i: ', 170000)\n",
      "('current chunk i: ', 170500)\n",
      "('current chunk i: ', 171000)\n",
      "('current chunk i: ', 171500)\n",
      "('current chunk i: ', 172000)\n",
      "('current chunk i: ', 172500)\n",
      "('current chunk i: ', 173000)\n",
      "('current chunk i: ', 173500)\n",
      "('current chunk i: ', 174000)\n",
      "('current chunk i: ', 174500)\n",
      "('current chunk i: ', 175000)\n"
     ]
    }
   ],
   "source": [
    "test_sku_set = set(test_labels)\n",
    "cluster_centers_dict = get_approx_cluster_centers(test_sku_set, '/home/caffe/images/china_drinks_train_data_latest_full/all_cropped_images', china_drinks_embedding_sku_model, image_size = 256)"
   ]
  },
  {
   "cell_type": "code",
   "execution_count": 12,
   "metadata": {},
   "outputs": [
    {
     "name": "stdout",
     "output_type": "stream",
     "text": [
      "Model filename: /home/caffe/achu/frozen_models/latest_china.pb\n",
      "('Total size: ', 300)\n"
     ]
    }
   ],
   "source": [
    "china_drinks_test_embeddings = get_embeddings(subset_test_images, china_drinks_embedding_sku_model, chunk_size = 500, features_tensor_name = china_drinks_feature_tensor_name, phase_train_tensor = china_drinks_embedding_phase_name, image_size = 256)"
   ]
  },
  {
   "cell_type": "code",
   "execution_count": 28,
   "metadata": {},
   "outputs": [],
   "source": [
    "distances_from_centroids_to_positives = []\n",
    "distances_from_centroids_to_negatives = []\n",
    "two_step_predictions = []\n",
    "\n",
    "for i in range(len(test_labels)):\n",
    "    if test_labels[i] in cluster_centers_dict:\n",
    "        centroid_distance = euclidean(china_drinks_test_embeddings[i], cluster_centers_dict[test_labels[i]])\n",
    "        prod_pred = china_drinks_production_predictions[i]\n",
    "        prod_pred_score = china_drinks_production_scores[i]\n",
    "        \n",
    "        if prod_pred == test_labels[i]:\n",
    "            distances_from_centroids_to_positives += [centroid_distance]\n",
    "        else:\n",
    "            distances_from_centroids_to_negatives += [centroid_distance]\n",
    "        #adding any missed wrong preds which might pass as correct\n",
    "        #wrong and not sent to qa number should be better\n",
    "        if prod_pred_score > QA_PROD_THRESHOLD and centroid_distance < 0.5:\n",
    "            #setting the conf score to 0.01 to be included for qa\n",
    "            china_drinks_production_scores[i] = 0.01\n",
    "        #removing any correct preds that might be sent to QA\n",
    "        elif prod_pred_score < QA_PROD_THRESHOLD and centroid_distance > 1.2:\n",
    "            #setting the conf score to 0.8 to be not included for qa\n",
    "            china_drinks_production_scores[i] = 0.8"
   ]
  },
  {
   "cell_type": "code",
   "execution_count": 29,
   "metadata": {},
   "outputs": [
    {
     "name": "stdout",
     "output_type": "stream",
     "text": [
      "('n_correct: ', 213)\n",
      "('n_wrong: ', 87)\n",
      "('n_qa: ', 125)\n",
      "('n_no_qa', 175)\n",
      "('n_wrong_and_sent_to_qa: ', 47)\n",
      "('n_correct_and_not_sent_to_qa: ', 135)\n",
      "('n_correct_but_sent_to_qa: ', 78)\n",
      "('n_wrong_but_not_sent_to_qa: ', 40)\n",
      "('QA rule precision: n_wrong_and_sent_to_qa/[n_wrong_and_sent_to_qa+n_correct_but_sent_to_qa]: ', 0.376)\n",
      "('QA rule recall: n_wrong_and_sent_to_qa/[n_wrong_and_sent_to_qa+n_wrong_but_not_sent_to_qa]: ', 0.5402298850574713)\n",
      "('Box level accuracy before QA: ', 0.71)\n",
      "('Box level accuracy after QA: ', 0.8666666666666667)\n"
     ]
    }
   ],
   "source": [
    "qa_performance(test_labels, china_drinks_production_predictions, china_drinks_production_scores, should_qa_threshold = QA_PROD_THRESHOLD)"
   ]
  },
  {
   "cell_type": "code",
   "execution_count": 15,
   "metadata": {},
   "outputs": [
    {
     "data": {
      "text/plain": [
       "(array([34., 38., 31., 22., 22., 22., 53., 46., 24.,  7.]),\n",
       " array([0.29699877, 0.4228686 , 0.54873843, 0.67460826, 0.80047809,\n",
       "        0.92634793, 1.05221776, 1.17808759, 1.30395742, 1.42982725,\n",
       "        1.55569708]),\n",
       " <a list of 10 Patch objects>)"
      ]
     },
     "execution_count": 15,
     "metadata": {},
     "output_type": "execute_result"
    },
    {
     "data": {
      "image/png": "[encoded data removed]",
      "text/plain": [
       "<Figure size 432x288 with 1 Axes>"
      ]
     },
     "metadata": {
      "needs_background": "light"
     },
     "output_type": "display_data"
    }
   ],
   "source": [
    "plt.hist(distances_from_centroids)"
   ]
  },
  {
   "cell_type": "code",
   "execution_count": 16,
   "metadata": {},
   "outputs": [],
   "source": [
    "import pickle\n",
    "def save_obj(obj, name ):\n",
    "    with open(name, 'wb') as f:\n",
    "        pickle.dump(obj, f, pickle.HIGHEST_PROTOCOL)\n",
    "\n",
    "def load_obj(name ):\n",
    "    with open(name, 'rb') as f:\n",
    "        return pickle.load(f)"
   ]
  },
  {
   "cell_type": "code",
   "execution_count": 17,
   "metadata": {},
   "outputs": [],
   "source": [
    "save_obj(cluster_centers_dict, 'cluster_center_dict.pkl')\n",
    "save_obj(subset_test_images, 'subset_test_images.pkl')"
   ]
  },
  {
   "cell_type": "code",
   "execution_count": 20,
   "metadata": {},
   "outputs": [
    {
     "data": {
      "text/plain": [
       "(array([27., 30., 21., 12., 16., 10., 25., 44., 18., 10.]),\n",
       " array([0.30391783, 0.42158385, 0.53924987, 0.6569159 , 0.77458192,\n",
       "        0.89224795, 1.00991397, 1.12757999, 1.24524602, 1.36291204,\n",
       "        1.48057806]),\n",
       " <a list of 10 Patch objects>)"
      ]
     },
     "execution_count": 20,
     "metadata": {},
     "output_type": "execute_result"
    },
    {
     "data": {
      "image/png": "[encoded data removed]",
      "text/plain": [
       "<Figure size 432x288 with 1 Axes>"
      ]
     },
     "metadata": {
      "needs_background": "light"
     },
     "output_type": "display_data"
    }
   ],
   "source": [
    "plt.hist(distances_from_centroids_to_positives)"
   ]
  },
  {
   "cell_type": "code",
   "execution_count": 21,
   "metadata": {},
   "outputs": [
    {
     "data": {
      "text/plain": [
       "(array([ 7.,  7.,  9.,  6.,  9.,  8., 13., 15.,  7.,  5.]),\n",
       " array([0.29699877, 0.4228686 , 0.54873843, 0.67460826, 0.80047809,\n",
       "        0.92634793, 1.05221776, 1.17808759, 1.30395742, 1.42982725,\n",
       "        1.55569708]),\n",
       " <a list of 10 Patch objects>)"
      ]
     },
     "execution_count": 21,
     "metadata": {},
     "output_type": "execute_result"
    },
    {
     "data": {
      "image/png": "[encoded data removed]",
      "text/plain": [
       "<Figure size 432x288 with 1 Axes>"
      ]
     },
     "metadata": {
      "needs_background": "light"
     },
     "output_type": "display_data"
    }
   ],
   "source": [
    "plt.hist(distances_from_centroids_to_negatives)"
   ]
  },
  {
   "cell_type": "code",
   "execution_count": 23,
   "metadata": {},
   "outputs": [
    {
     "data": {
      "text/plain": [
       "213"
      ]
     },
     "execution_count": 23,
     "metadata": {},
     "output_type": "execute_result"
    }
   ],
   "source": [
    "len(distances_from_centroids_to_positives)"
   ]
  },
  {
   "cell_type": "code",
   "execution_count": null,
   "metadata": {},
   "outputs": [],
   "source": []
  }
 ],
 "metadata": {
  "kernelspec": {
   "display_name": "Python 2",
   "language": "python",
   "name": "python2"
  },
  "language_info": {
   "codemirror_mode": {
    "name": "ipython",
    "version": 2
   },
   "file_extension": ".py",
   "mimetype": "text/x-python",
   "name": "python",
   "nbconvert_exporter": "python",
   "pygments_lexer": "ipython2",
   "version": "2.7.15rc1"
  }
 },
 "nbformat": 4,
 "nbformat_minor": 2
}
