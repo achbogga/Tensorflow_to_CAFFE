{
 "cells": [
  {
   "cell_type": "code",
   "execution_count": 1,
   "metadata": {},
   "outputs": [],
   "source": [
    "import caffe"
   ]
  },
  {
   "cell_type": "code",
   "execution_count": 2,
   "metadata": {},
   "outputs": [],
   "source": [
    "import facenet\n",
    "import os\n",
    "import tensorflow as tf"
   ]
  },
  {
   "cell_type": "code",
   "execution_count": 3,
   "metadata": {},
   "outputs": [],
   "source": [
    "def copy_conv_layer_params(tf_names, caffe_names, caffe_net, model_dir = '/home/ovuser/FaceRecognition/models/20170512-110547'):\n",
    "    with tf.Graph().as_default():\n",
    "        with tf.Session() as sess:\n",
    "            facenet.load_model(model_dir)\n",
    "            all_tensors = tf.contrib.graph_editor.get_tensors(tf.get_default_graph())\n",
    "            all_tensor_names = [tensor.name for tensor in all_tensors]\n",
    "            for i in range(len(caffe_names)):\n",
    "                caffe_name = caffe_names[i]\n",
    "                tf_name = tf_names[i]\n",
    "                tf_name_index = all_tensor_names.index(tf_name)\n",
    "                tensor = all_tensors[tf_name_index]\n",
    "                print ('Copying ' + tensor.name+' into '+caffe_name)\n",
    "                value = tensor.eval()\n",
    "                print ('tf_tensor.shape: ', value.shape)\n",
    "                caffe_net.params[caffe_name][0].data[...] = value.transpose((3,2,1,0))\n",
    "            return caffe_net"
   ]
  },
  {
   "cell_type": "code",
   "execution_count": 9,
   "metadata": {},
   "outputs": [
    {
     "name": "stdout",
     "output_type": "stream",
     "text": [
      "Model directory: /home/ovuser/FaceRecognition/models/20170512-110547\n",
      "Metagraph file: model-20170512-110547.meta\n",
      "Checkpoint file: model-20170512-110547.ckpt-250000\n",
      "WARNING:tensorflow:The saved meta_graph is possibly from an older release:\n",
      "'model_variables' collection should be of type 'byte_list', but instead is of type 'node_list'.\n",
      "INFO:tensorflow:Restoring parameters from /home/ovuser/FaceRecognition/models/20170512-110547/model-20170512-110547.ckpt-250000\n"
     ]
    },
    {
     "name": "stderr",
     "output_type": "stream",
     "text": [
      "/usr/local/lib/python2.7/dist-packages/h5py/__init__.py:36: FutureWarning: Conversion of the second argument of issubdtype from `float` to `np.floating` is deprecated. In future, it will be treated as `np.float64 == np.dtype(float).type`.\n",
      "  from ._conv import register_converters as _register_converters\n"
     ]
    },
    {
     "name": "stdout",
     "output_type": "stream",
     "text": [
      "Copying InceptionResnetV1/Repeat/block35_4/Branch_2/Conv2d_0b_3x3/weights:0 into inception_a4_3x3_b2\n",
      "('tf_tensor.shape: ', (3, 3, 32, 32))\n",
      "Copying InceptionResnetV1/Repeat/block35_3/Branch_1/Conv2d_0b_3x3/weights:0 into inception_a3_3x3_b1\n",
      "('tf_tensor.shape: ', (3, 3, 32, 32))\n",
      "Copying InceptionResnetV1/Repeat/block35_1/Branch_2/Conv2d_0b_3x3/weights:0 into inception_a1_3x3_b2\n",
      "('tf_tensor.shape: ', (3, 3, 32, 32))\n",
      "Copying InceptionResnetV1/Repeat/block35_2/Branch_1/Conv2d_0b_3x3/weights:0 into inception_a2_3x3_b1\n",
      "('tf_tensor.shape: ', (3, 3, 32, 32))\n",
      "Copying InceptionResnetV1/Repeat/block35_5/Branch_2/Conv2d_0a_1x1/weights:0 into inception_a5_1x1_b2\n",
      "('tf_tensor.shape: ', (1, 1, 256, 32))\n",
      "Copying InceptionResnetV1/Repeat/block35_3/Conv2d_1x1/weights:0 into inception_a3_1x1\n",
      "('tf_tensor.shape: ', (1, 1, 96, 256))\n",
      "Copying InceptionResnetV1/Mixed_6a/Branch_1/Conv2d_1a_3x3/weights:0 into reduction_a_conv_3x3_3\n",
      "('tf_tensor.shape: ', (3, 3, 192, 256))\n",
      "Copying InceptionResnetV1/Repeat/block35_4/Branch_0/Conv2d_1x1/weights:0 into inception_a4_1x1_b0\n",
      "('tf_tensor.shape: ', (1, 1, 256, 32))\n",
      "Copying InceptionResnetV1/Repeat/block35_5/Branch_2/Conv2d_0b_3x3/weights:0 into inception_a5_3x3_b2\n",
      "('tf_tensor.shape: ', (3, 3, 32, 32))\n",
      "Copying InceptionResnetV1/Repeat/block35_2/Branch_0/Conv2d_1x1/weights:0 into inception_a2_1x1_b0\n",
      "('tf_tensor.shape: ', (1, 1, 256, 32))\n",
      "Copying InceptionResnetV1/Repeat/block35_4/Conv2d_1x1/weights:0 into inception_a4_1x1\n",
      "('tf_tensor.shape: ', (1, 1, 96, 256))\n",
      "Copying InceptionResnetV1/Repeat/block35_5/Branch_1/Conv2d_0b_3x3/weights:0 into inception_a5_3x3_b1\n",
      "('tf_tensor.shape: ', (3, 3, 32, 32))\n",
      "Copying InceptionResnetV1/Repeat/block35_5/Conv2d_1x1/weights:0 into inception_a5_1x1\n",
      "('tf_tensor.shape: ', (1, 1, 96, 256))\n",
      "Copying InceptionResnetV1/Repeat/block35_3/Branch_2/Conv2d_0a_1x1/weights:0 into inception_a3_1x1_b2\n",
      "('tf_tensor.shape: ', (1, 1, 256, 32))\n",
      "Copying InceptionResnetV1/Repeat/block35_4/Branch_2/Conv2d_0c_3x3/weights:0 into inception_a4_3x3_b2_a\n",
      "('tf_tensor.shape: ', (3, 3, 32, 32))\n",
      "Copying InceptionResnetV1/Repeat/block35_2/Branch_2/Conv2d_0c_3x3/weights:0 into inception_a2_3x3_b2_a\n",
      "('tf_tensor.shape: ', (3, 3, 32, 32))\n",
      "Copying InceptionResnetV1/Conv2d_2b_3x3/weights:0 into conv3_3x3_s1\n",
      "('tf_tensor.shape: ', (3, 3, 32, 64))\n",
      "Copying InceptionResnetV1/Repeat/block35_3/Branch_2/Conv2d_0b_3x3/weights:0 into inception_a3_3x3_b2\n",
      "('tf_tensor.shape: ', (3, 3, 32, 32))\n",
      "Copying InceptionResnetV1/Conv2d_2a_3x3/weights:0 into conv2_3x3_s1\n",
      "('tf_tensor.shape: ', (3, 3, 32, 32))\n",
      "Copying InceptionResnetV1/Repeat/block35_1/Branch_1/Conv2d_0b_3x3/weights:0 into inception_a1_3x3_b1\n",
      "('tf_tensor.shape: ', (3, 3, 32, 32))\n",
      "Copying InceptionResnetV1/Repeat/block35_1/Branch_2/Conv2d_0a_1x1/weights:0 into inception_a1_1x1_b2\n",
      "('tf_tensor.shape: ', (1, 1, 256, 32))\n",
      "Copying InceptionResnetV1/Conv2d_1a_3x3/weights:0 into conv1_3x3_s2\n",
      "('tf_tensor.shape: ', (3, 3, 3, 32))\n",
      "Copying InceptionResnetV1/Repeat/block35_1/Branch_0/Conv2d_1x1/weights:0 into inception_a1_1x1_b0\n",
      "('tf_tensor.shape: ', (1, 1, 256, 32))\n",
      "Copying InceptionResnetV1/Conv2d_3b_1x1/weights:0 into conv4_1x1_s1\n",
      "('tf_tensor.shape: ', (1, 1, 64, 80))\n",
      "Copying InceptionResnetV1/Conv2d_4a_3x3/weights:0 into conv5_3x3_s1\n",
      "('tf_tensor.shape: ', (3, 3, 80, 192))\n",
      "Copying InceptionResnetV1/Repeat/block35_2/Branch_1/Conv2d_0a_1x1/weights:0 into inception_a2_1x1_b1\n",
      "('tf_tensor.shape: ', (1, 1, 256, 32))\n",
      "Copying InceptionResnetV1/Repeat/block35_5/Branch_1/Conv2d_0a_1x1/weights:0 into inception_a5_1x1_b1\n",
      "('tf_tensor.shape: ', (1, 1, 256, 32))\n",
      "Copying InceptionResnetV1/Repeat/block35_5/Branch_2/Conv2d_0c_3x3/weights:0 into inception_a5_3x3_b2_a\n",
      "('tf_tensor.shape: ', (3, 3, 32, 32))\n",
      "Copying InceptionResnetV1/Repeat/block35_3/Branch_1/Conv2d_0a_1x1/weights:0 into inception_a3_1x1_b1\n",
      "('tf_tensor.shape: ', (1, 1, 256, 32))\n",
      "Copying InceptionResnetV1/Repeat/block35_1/Branch_2/Conv2d_0c_3x3/weights:0 into inception_a1_3x3_b2_a\n",
      "('tf_tensor.shape: ', (3, 3, 32, 32))\n",
      "Copying InceptionResnetV1/Conv2d_4b_3x3/weights:0 into conv6_3x3_s2\n",
      "('tf_tensor.shape: ', (3, 3, 192, 256))\n",
      "Copying InceptionResnetV1/Repeat/block35_1/Conv2d_1x1/weights:0 into inception_a1_1x1\n",
      "('tf_tensor.shape: ', (1, 1, 96, 256))\n",
      "Copying InceptionResnetV1/Mixed_6a/Branch_0/Conv2d_1a_3x3/weights:0 into reduction_a_conv_3x3\n",
      "('tf_tensor.shape: ', (3, 3, 256, 384))\n",
      "Copying InceptionResnetV1/Repeat/block35_4/Branch_1/Conv2d_0b_3x3/weights:0 into inception_a4_3x3_b1\n",
      "('tf_tensor.shape: ', (3, 3, 32, 32))\n",
      "Copying InceptionResnetV1/Repeat/block35_4/Branch_1/Conv2d_0a_1x1/weights:0 into inception_a4_1x1_b1\n",
      "('tf_tensor.shape: ', (1, 1, 256, 32))\n",
      "Copying InceptionResnetV1/Repeat/block35_4/Branch_2/Conv2d_0a_1x1/weights:0 into inception_a4_1x1_b2\n",
      "('tf_tensor.shape: ', (1, 1, 256, 32))\n",
      "Copying InceptionResnetV1/Repeat/block35_3/Branch_2/Conv2d_0c_3x3/weights:0 into inception_a3_3x3_b2_a\n",
      "('tf_tensor.shape: ', (3, 3, 32, 32))\n",
      "Copying InceptionResnetV1/Repeat/block35_2/Branch_2/Conv2d_0b_3x3/weights:0 into inception_a2_3x3_b2\n",
      "('tf_tensor.shape: ', (3, 3, 32, 32))\n",
      "Copying InceptionResnetV1/Repeat/block35_3/Branch_0/Conv2d_1x1/weights:0 into inception_a3_1x1_b0\n",
      "('tf_tensor.shape: ', (1, 1, 256, 32))\n",
      "Copying InceptionResnetV1/Repeat/block35_2/Branch_2/Conv2d_0a_1x1/weights:0 into inception_a2_1x1_b2\n",
      "('tf_tensor.shape: ', (1, 1, 256, 32))\n",
      "Copying InceptionResnetV1/Repeat/block35_2/Conv2d_1x1/weights:0 into inception_a2_1x1\n",
      "('tf_tensor.shape: ', (1, 1, 96, 256))\n",
      "Copying InceptionResnetV1/Repeat/block35_5/Branch_0/Conv2d_1x1/weights:0 into inception_a5_1x1_b0\n",
      "('tf_tensor.shape: ', (1, 1, 256, 32))\n",
      "Copying InceptionResnetV1/Repeat/block35_1/Branch_1/Conv2d_0a_1x1/weights:0 into inception_a1_1x1_b1\n",
      "('tf_tensor.shape: ', (1, 1, 256, 32))\n",
      "Copying InceptionResnetV1/Mixed_6a/Branch_1/Conv2d_0b_3x3/weights:0 into reduction_a_conv_3x3_2\n",
      "('tf_tensor.shape: ', (3, 3, 192, 192))\n",
      "Copying InceptionResnetV1/Mixed_6a/Branch_1/Conv2d_0a_1x1/weights:0 into reduction_a_conv_1x1_reduce\n",
      "('tf_tensor.shape: ', (1, 1, 256, 192))\n"
     ]
    }
   ],
   "source": [
    "caffe_net = copy_conv_layer_params(list(conv_layers.keys()), list(conv_layers.values()), caffe_net)"
   ]
  },
  {
   "cell_type": "code",
   "execution_count": 5,
   "metadata": {},
   "outputs": [],
   "source": [
    "caffe_tensors = []\n",
    "nodes = caffe_net.params.keys()\n",
    "for node in nodes:\n",
    "    for node_layer in caffe_net.params[node]:\n",
    "        shape = node_layer.data.shape\n",
    "        shape_str = ','.join([str(it) for it in shape])\n",
    "        caffe_tensors.append(node+'\\n')"
   ]
  },
  {
   "cell_type": "code",
   "execution_count": 6,
   "metadata": {},
   "outputs": [],
   "source": [
    "with open('/home/ovuser/Projects/tf_2_caffe/caffe_facenet_tensors.txt', 'w') as fp:\n",
    "    fp.writelines(caffe_tensors)"
   ]
  },
  {
   "cell_type": "code",
   "execution_count": 4,
   "metadata": {},
   "outputs": [],
   "source": [
    "caffe_net = caffe.Net('/home/ovuser/Projects/tf_2_caffe/facenet_deploy.prototxt', caffe.TEST)"
   ]
  },
  {
   "cell_type": "code",
   "execution_count": null,
   "metadata": {},
   "outputs": [],
   "source": [
    "def get_frozen_graph(model_dir = '/home/ovuser/FaceRecognition/models/20170512-110547'):\n",
    "    with tf.Graph().as_default():\n",
    "        with tf.Session() as sess:\n",
    "            meta_file, ckpt_file = facenet.get_model_filenames(os.path.expanduser(model_dir))\n",
    "            facenet.load_model(model_dir)\n",
    "            all_tensors = tf.contrib.graph_editor.get_tensors(tf.get_default_graph())\n",
    "            lines = []\n",
    "            with open('/home/ovuser/Desktop/CaffeFaceResearch/Facenet_Tensors', 'w') as fp:\n",
    "                for tensor in all_tensors:\n",
    "                    try:\n",
    "                        lines.append(tensor.name + ' '+ ','.join([str(it) for it in tensor.get_shape()]) + '\\n')\n",
    "                    except ValueError:\n",
    "                        print (tensor.name)\n",
    "                fp.writelines(lines)\n",
    "            graphdef = tf.get_default_graph().as_graph_def()\n",
    "            op = sess.graph.get_operations()\n",
    "            writer = tf.summary.FileWriter(\"/home/ovuser/research/logs/facenet\")\n",
    "            frozen_graph = tf.graph_util.convert_variables_to_constants(sess, graphdef, [\"embeddings\"])\n",
    "            writer.add_graph(sess.graph)\n",
    "            return tf.graph_util.remove_training_nodes(frozen_graph), sess.graph"
   ]
  },
  {
   "cell_type": "code",
   "execution_count": null,
   "metadata": {},
   "outputs": [],
   "source": [
    "print(caffe_net.params['conv1_3x3_s2'][0].data.shape)"
   ]
  },
  {
   "cell_type": "code",
   "execution_count": 2,
   "metadata": {},
   "outputs": [],
   "source": [
    "conv_layers = {'InceptionResnetV1/Conv2d_1a_3x3/weights:0':'conv1_3x3_s2', 'InceptionResnetV1/Conv2d_2a_3x3/weights:0':'conv2_3x3_s1', 'InceptionResnetV1/Conv2d_2b_3x3/weights:0':'conv3_3x3_s1', 'InceptionResnetV1/Conv2d_3b_1x1/weights:0':'conv4_1x1_s1', 'InceptionResnetV1/Conv2d_4a_3x3/weights:0':'conv5_3x3_s1', 'InceptionResnetV1/Conv2d_4b_3x3/weights:0':'conv6_3x3_s2', 'InceptionResnetV1/Repeat/block35_1/Branch_0/Conv2d_1x1/weights:0':'inception_a1_1x1_b0', 'InceptionResnetV1/Repeat/block35_1/Branch_1/Conv2d_0a_1x1/weights:0':'inception_a1_1x1_b1', 'InceptionResnetV1/Repeat/block35_1/Branch_1/Conv2d_0b_3x3/weights:0':'inception_a1_3x3_b1', 'InceptionResnetV1/Repeat/block35_1/Branch_2/Conv2d_0a_1x1/weights:0':'inception_a1_1x1_b2', 'InceptionResnetV1/Repeat/block35_1/Branch_2/Conv2d_0b_3x3/weights:0':'inception_a1_3x3_b2', 'InceptionResnetV1/Repeat/block35_1/Branch_2/Conv2d_0c_3x3/weights:0':'inception_a1_3x3_b2_a', 'InceptionResnetV1/Repeat/block35_1/Conv2d_1x1/weights:0':'inception_a1_1x1', 'InceptionResnetV1/Repeat/block35_2/Branch_0/Conv2d_1x1/weights:0':'inception_a2_1x1_b0', 'InceptionResnetV1/Repeat/block35_2/Branch_1/Conv2d_0a_1x1/weights:0':'inception_a2_1x1_b1', 'InceptionResnetV1/Repeat/block35_2/Branch_1/Conv2d_0b_3x3/weights:0':'inception_a2_3x3_b1', 'InceptionResnetV1/Repeat/block35_2/Branch_2/Conv2d_0a_1x1/weights:0':'inception_a2_1x1_b2', 'InceptionResnetV1/Repeat/block35_2/Branch_2/Conv2d_0b_3x3/weights:0':'inception_a2_3x3_b2', 'InceptionResnetV1/Repeat/block35_2/Branch_2/Conv2d_0c_3x3/weights:0':'inception_a2_3x3_b2_a', 'InceptionResnetV1/Repeat/block35_2/Conv2d_1x1/weights:0':'inception_a2_1x1', 'InceptionResnetV1/Repeat/block35_3/Branch_0/Conv2d_1x1/weights:0':'inception_a3_1x1_b0', 'InceptionResnetV1/Repeat/block35_3/Branch_1/Conv2d_0a_1x1/weights:0':'inception_a3_1x1_b1', 'InceptionResnetV1/Repeat/block35_3/Branch_1/Conv2d_0b_3x3/weights:0':'inception_a3_3x3_b1', 'InceptionResnetV1/Repeat/block35_3/Branch_2/Conv2d_0a_1x1/weights:0':'inception_a3_1x1_b2', 'InceptionResnetV1/Repeat/block35_3/Branch_2/Conv2d_0b_3x3/weights:0':'inception_a3_3x3_b2', 'InceptionResnetV1/Repeat/block35_3/Branch_2/Conv2d_0c_3x3/weights:0':'inception_a3_3x3_b2_a', 'InceptionResnetV1/Repeat/block35_3/Conv2d_1x1/weights:0':'inception_a3_1x1', 'InceptionResnetV1/Repeat/block35_4/Branch_0/Conv2d_1x1/weights:0':'inception_a4_1x1_b0', 'InceptionResnetV1/Repeat/block35_4/Branch_1/Conv2d_0a_1x1/weights:0':'inception_a4_1x1_b1', 'InceptionResnetV1/Repeat/block35_4/Branch_1/Conv2d_0b_3x3/weights:0':'inception_a4_3x3_b1', 'InceptionResnetV1/Repeat/block35_4/Branch_2/Conv2d_0a_1x1/weights:0':'inception_a4_1x1_b2', 'InceptionResnetV1/Repeat/block35_4/Branch_2/Conv2d_0b_3x3/weights:0':'inception_a4_3x3_b2', 'InceptionResnetV1/Repeat/block35_4/Branch_2/Conv2d_0c_3x3/weights:0':'inception_a4_3x3_b2_a', 'InceptionResnetV1/Repeat/block35_4/Conv2d_1x1/weights:0':'inception_a4_1x1', 'InceptionResnetV1/Repeat/block35_5/Branch_0/Conv2d_1x1/weights:0':'inception_a5_1x1_b0', 'InceptionResnetV1/Repeat/block35_5/Branch_1/Conv2d_0a_1x1/weights:0':'inception_a5_1x1_b1', 'InceptionResnetV1/Repeat/block35_5/Branch_1/Conv2d_0b_3x3/weights:0':'inception_a5_3x3_b1', 'InceptionResnetV1/Repeat/block35_5/Branch_2/Conv2d_0a_1x1/weights:0':'inception_a5_1x1_b2', 'InceptionResnetV1/Repeat/block35_5/Branch_2/Conv2d_0b_3x3/weights:0':'inception_a5_3x3_b2', 'InceptionResnetV1/Repeat/block35_5/Branch_2/Conv2d_0c_3x3/weights:0':'inception_a5_3x3_b2_a', 'InceptionResnetV1/Repeat/block35_5/Conv2d_1x1/weights:0':'inception_a5_1x1', 'InceptionResnetV1/Mixed_6a/Branch_0/Conv2d_1a_3x3/weights:0':'reduction_a_conv_3x3', 'InceptionResnetV1/Mixed_6a/Branch_1/Conv2d_0a_1x1/weights:0':'reduction_a_conv_1x1_reduce', 'InceptionResnetV1/Mixed_6a/Branch_1/Conv2d_0b_3x3/weights:0':'reduction_a_conv_3x3_2', 'InceptionResnetV1/Mixed_6a/Branch_1/Conv2d_1a_3x3/weights:0':'reduction_a_conv_3x3_3'}"
   ]
  },
  {
   "cell_type": "code",
   "execution_count": 18,
   "metadata": {},
   "outputs": [
    {
     "name": "stdout",
     "output_type": "stream",
     "text": [
      "132\n"
     ]
    }
   ],
   "source": [
    "print (len(conv_layers))"
   ]
  },
  {
   "cell_type": "code",
   "execution_count": null,
   "metadata": {},
   "outputs": [],
   "source": [
    "with open('caffe_facenet_tensors.txt', 'r') as fp:\n",
    "    caffe_facenet_tensors = fp.readlines()"
   ]
  },
  {
   "cell_type": "code",
   "execution_count": null,
   "metadata": {},
   "outputs": [],
   "source": [
    "caffe_facenet_conv_layers = [tensor.replace('\\n','') for tensor in caffe_facenet_tensors if 'conv' in tensor]"
   ]
  },
  {
   "cell_type": "code",
   "execution_count": null,
   "metadata": {},
   "outputs": [],
   "source": [
    "print (caffe_facenet_conv_layers)"
   ]
  },
  {
   "cell_type": "code",
   "execution_count": 6,
   "metadata": {},
   "outputs": [],
   "source": [
    "import json"
   ]
  },
  {
   "cell_type": "code",
   "execution_count": 17,
   "metadata": {},
   "outputs": [],
   "source": [
    "with open('tf_2_caffe_conv_layers.json', 'w') as fp:\n",
    "    json.dump(conv_layers, fp)"
   ]
  },
  {
   "cell_type": "code",
   "execution_count": 1,
   "metadata": {},
   "outputs": [],
   "source": [
    "inc_block_b_conv_layers = {'InceptionResnetV1/Repeat_1/block17_#/Branch_0/Conv2d_1x1/weights:0':'inception_b#_1x1', 'InceptionResnetV1/Repeat_1/block17_#/Branch_1/Conv2d_0a_1x1/weights:0':'inception_b#_1x7_2_reduce', 'InceptionResnetV1/Repeat_1/block17_#/Branch_1/Conv2d_0b_1x7/weights:0':'inception_b#_1x7_2', 'InceptionResnetV1/Repeat_1/block17_#/Branch_1/Conv2d_0c_7x1/weights:0':'inception_b#_7x1_2', 'InceptionResnetV1/Repeat_1/block17_#/Conv2d_1x1/weights:0':'inception_b#_1x1_a'}"
   ]
  },
  {
   "cell_type": "code",
   "execution_count": 12,
   "metadata": {},
   "outputs": [],
   "source": [
    "for i in range(1,6, 1):\n",
    "    for k,v in inc_block_c_conv_layers.items():\n",
    "        conv_layers[k.replace('#', str(i))] = v.replace('#', str(i))"
   ]
  },
  {
   "cell_type": "code",
   "execution_count": 8,
   "metadata": {},
   "outputs": [],
   "source": [
    "red_block_b_conv_layers = {'InceptionResnetV1/Mixed_7a/Branch_0/Conv2d_0a_1x1/weights:0':'reduction_b_3x3_reduce', 'InceptionResnetV1/Mixed_7a/Branch_0/Conv2d_1a_3x3/weights:0':'reduction_b_3x3', 'InceptionResnetV1/Mixed_7a/Branch_1/Conv2d_0a_1x1/weights:0':'reduction_b_3x3_reduce_1', 'InceptionResnetV1/Mixed_7a/Branch_1/Conv2d_1a_3x3/weights:0':'reduction_b_3x3_1', 'InceptionResnetV1/Mixed_7a/Branch_2/Conv2d_0a_1x1/weights:0':'reduction_b_3x3_reduce_2', 'InceptionResnetV1/Mixed_7a/Branch_2/Conv2d_0b_3x3/weights:0':'reduction_b_3x3_2', 'InceptionResnetV1/Mixed_7a/Branch_2/Conv2d_1a_3x3/weights:0':'reduction_b_3x3_2a'}\n",
    "for k, v in red_block_b_conv_layers.items():\n",
    "    conv_layers[k] = v"
   ]
  },
  {
   "cell_type": "code",
   "execution_count": 11,
   "metadata": {},
   "outputs": [],
   "source": [
    "inc_block_c_conv_layers = {'InceptionResnetV1/Repeat_2/block8_#/Branch_0/Conv2d_1x1/weights:0':'inception_c#_1x1', 'InceptionResnetV1/Repeat_2/block8_#/Branch_1/Conv2d_0a_1x1/weights:0':'inception_c#_1x1_2', 'InceptionResnetV1/Repeat_2/block8_#/Branch_1/Conv2d_0b_1x3/weights:0':'inception_c#_1x3_2', 'InceptionResnetV1/Repeat_2/block8_#/Branch_1/Conv2d_0c_3x1/weights:0':'inception_c#_3x1_2', 'InceptionResnetV1/Repeat_2/block8_#/Conv2d_1x1/weights:0':'inception_c#_1x1_3'}"
   ]
  },
  {
   "cell_type": "code",
   "execution_count": 15,
   "metadata": {},
   "outputs": [],
   "source": [
    "inc_last_block_conv_layers = {'InceptionResnetV1/Block8/Branch_0/Conv2d_1x1/weights:0':'inception_c6_1x1', 'InceptionResnetV1/Block8/Branch_1/Conv2d_0a_1x1/weights:0':'inception_c6_1x1_2', 'InceptionResnetV1/Block8/Branch_1/Conv2d_0b_1x3/weights:0':'inception_c6_1x3_2', 'InceptionResnetV1/Block8/Branch_1/Conv2d_0c_3x1/weights:0':'inception_c6_3x1_2', 'InceptionResnetV1/Block8/Conv2d_1x1/weights:0':'inception_c6_1x1_3'}"
   ]
  },
  {
   "cell_type": "code",
   "execution_count": 16,
   "metadata": {},
   "outputs": [],
   "source": [
    "for k, v in inc_last_block_conv_layers.items():\n",
    "    conv_layers[k] = v"
   ]
  },
  {
   "cell_type": "code",
   "execution_count": 1,
   "metadata": {},
   "outputs": [],
   "source": [
    "import re"
   ]
  },
  {
   "cell_type": "code",
   "execution_count": 2,
   "metadata": {},
   "outputs": [
    {
     "data": {
      "text/plain": [
       "<_sre.SRE_Match at 0x7fb0f3ff1e68>"
      ]
     },
     "execution_count": 2,
     "metadata": {},
     "output_type": "execute_result"
    }
   ],
   "source": [
    "re.match('asdf\\d', 'asdf9')"
   ]
  },
  {
   "cell_type": "code",
   "execution_count": 4,
   "metadata": {},
   "outputs": [
    {
     "data": {
      "text/plain": [
       "False"
      ]
     },
     "execution_count": 4,
     "metadata": {},
     "output_type": "execute_result"
    }
   ],
   "source": [
    "re.match('asdf\\d', 'asdf9') is None"
   ]
  },
  {
   "cell_type": "code",
   "execution_count": null,
   "metadata": {},
   "outputs": [],
   "source": []
  }
 ],
 "metadata": {
  "kernelspec": {
   "display_name": "Python 2",
   "language": "python",
   "name": "python2"
  },
  "language_info": {
   "codemirror_mode": {
    "name": "ipython",
    "version": 2
   },
   "file_extension": ".py",
   "mimetype": "text/x-python",
   "name": "python",
   "nbconvert_exporter": "python",
   "pygments_lexer": "ipython2",
   "version": "2.7.12"
  }
 },
 "nbformat": 4,
 "nbformat_minor": 2
}
